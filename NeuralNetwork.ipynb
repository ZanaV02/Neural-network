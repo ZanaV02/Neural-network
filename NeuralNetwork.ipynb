{
 "cells": [
  {
   "cell_type": "markdown",
   "id": "badf7ff9",
   "metadata": {},
   "source": [
    "# Kreiranje neuronske mreže"
   ]
  },
  {
   "cell_type": "code",
   "execution_count": 32,
   "id": "eed8fa38",
   "metadata": {},
   "outputs": [],
   "source": [
    "import torch\n",
    "from torch import nn\n",
    "import torch.nn.functional as F"
   ]
  },
  {
   "cell_type": "code",
   "execution_count": 33,
   "id": "29bae530",
   "metadata": {},
   "outputs": [],
   "source": [
    "class Covertype(nn.Module):\n",
    "    def __init__(self):\n",
    "        super().__init__()\n",
    "        self.layer1=nn.Linear(54,100)\n",
    "        self.act1=nn.ReLU()\n",
    "        self.layer2=nn.Linear(100,50)\n",
    "        self.act2=nn.ReLU()\n",
    "        self.layer3=nn.Linear(50,7)\n",
    "        self.act3=nn.Softmax()\n",
    "        \n",
    "    def forward(self,x):\n",
    "        x=self.act1(self.layer1(x))\n",
    "        x=self.act2(self.layer2(x))\n",
    "        x=F.softmax(self.layer3(x), dim=1)\n",
    "        return x"
   ]
  },
  {
   "cell_type": "code",
   "execution_count": 34,
   "id": "740ee3ff",
   "metadata": {},
   "outputs": [],
   "source": [
    "from sklearn.datasets import fetch_covtype\n",
    "coverType = fetch_covtype()\n",
    "#podjela podataka na ulazne karakteristike i ciljne vrijednosti\n",
    "X=coverType.data\n",
    "Y=coverType.target\n",
    "\n",
    "from sklearn.model_selection import train_test_split\n",
    "#dijelimo podatke u trening i test skupove\n",
    "X_train, X_test, Y_train, Y_test = train_test_split(X, Y, test_size=0.2, random_state=42)"
   ]
  },
  {
   "cell_type": "code",
   "execution_count": 35,
   "id": "def1d39b",
   "metadata": {},
   "outputs": [],
   "source": [
    "X_train_t=torch.tensor(X_train).float()\n",
    "X_test_t=torch.tensor(X_test).float()\n",
    "\n",
    "#niz brojeva se prebacuje u tenzor nx1\n",
    "Y_train_t=torch.tensor(Y_train).float().reshape(-1,1)\n",
    "Y_test_t=torch.tensor(Y_test).reshape(-1,1)"
   ]
  },
  {
   "cell_type": "code",
   "execution_count": 36,
   "id": "e7c275cc",
   "metadata": {},
   "outputs": [],
   "source": [
    "from torch.utils.data import TensorDataset, DataLoader\n",
    "\n",
    "#TensorDataset stvara ulazni podatak spajajući 2 tenzora\n",
    "train_dataset=TensorDataset(X_train_t, Y_train_t)\n",
    "test_dataset=TensorDataset(X_test_t, Y_test_t)\n",
    "\n",
    "#dataLoader nam omogucava da iteriramo kroz podatke u grupama(batch)\n",
    "train_loader=DataLoader(train_dataset,batch_size=32,shuffle=True)\n",
    "test_loader=DataLoader(test_dataset,batch_size=32)"
   ]
  },
  {
   "cell_type": "code",
   "execution_count": 37,
   "id": "4834e1b3",
   "metadata": {},
   "outputs": [],
   "source": [
    "net=Covertype() #instanca neuronske mreze\n",
    "loss_fn=nn.NLLLoss()#definisemo funkciju greske"
   ]
  },
  {
   "cell_type": "code",
   "execution_count": 38,
   "id": "e04e7556",
   "metadata": {},
   "outputs": [
    {
     "name": "stdout",
     "output_type": "stream",
     "text": [
      "Preciznost i odziv prije treninga, respektivno:\n",
      "0.9664816398058695\n",
      "0.030042253642332813\n"
     ]
    }
   ],
   "source": [
    "from sklearn.metrics import precision_score, recall_score\n",
    "\n",
    "#testiramo model\n",
    "net.eval()#mreza je u rezimu za testiranje\n",
    "def test_model(net, loss_fn, test_loader):\n",
    "    predictions=[] #lista vektora\n",
    "    true_labels=[]\n",
    "    total_loss=0\n",
    "    for x, y in test_loader:\n",
    "        #ulazne podatke pretvaramo u float tip a izlazne klase u long integer\n",
    "        x,y=x.float(), y.long().squeeze()\n",
    "        \n",
    "        #propagacija unaprijed, metoda forward klase covertype\n",
    "        #daje nam predvidjen izlaz za dati ulazni podatak\n",
    "        pred=net(x)\n",
    "        \n",
    "        #racunamo gresku\n",
    "        loss=loss_fn(pred,y-1)#klase su indeksirane od 0 pa je y-1\n",
    "        total_loss+=loss.item()#ukupna greska\n",
    "        \n",
    "        #trazimo vrijednost one vjerovatnove koja je najveca\n",
    "        #predicted cuva koju klasu ona oznacava\n",
    "        max, predicted=torch.max(pred.data, 1)\n",
    "        #dodajemo oznaku klase u vektor(tenzor->vektor)\n",
    "        predictions.extend(predicted.numpy())\n",
    "        true_labels.extend((y-1).numpy())\n",
    "        \n",
    "    precision=precision_score(true_labels,predictions, average='weighted', zero_division=1)\n",
    "    recall = recall_score(true_labels, predictions, average='weighted', zero_division=1)\n",
    "    return precision, recall\n",
    "\n",
    "precision,recall=test_model(net,loss_fn,test_loader)\n",
    "print(\"Preciznost i odziv prije treninga, respektivno:\")\n",
    "print(precision)\n",
    "print(recall)    "
   ]
  },
  {
   "cell_type": "markdown",
   "id": "4f082a20",
   "metadata": {},
   "source": [
    "Trening mreze:"
   ]
  },
  {
   "cell_type": "code",
   "execution_count": 39,
   "id": "769a3b07",
   "metadata": {},
   "outputs": [],
   "source": [
    "#Adam optimizacija, learning rate je 0.001\n",
    "optimizer = torch.optim.Adam(net.parameters(),1e-3,weight_decay=1e-5) \n",
    "\n",
    "EPOCHS=2#proizvoljan broj epoha\n",
    "net.train()#mreza je u rezimu treniranja\n",
    "\n",
    "for i in range(EPOCHS):\n",
    "    for x, y in train_loader:\n",
    "        x,y=x.float(), y.long().squeeze()\n",
    "        #propagacija unaprijed da bismo dobili izlaz\n",
    "        preds=net(x)\n",
    "        #racunanje greske\n",
    "        loss=loss_fn(preds, y-1)\n",
    "        #postavljanje prethodnih gradijenata na nulu\n",
    "        optimizer.zero_grad()\n",
    "        #racunanje gradijenta gubitka\n",
    "        loss.backward()\n",
    "        #azuriranje parametara neuronske mreze\n",
    "        optimizer.step()"
   ]
  },
  {
   "cell_type": "markdown",
   "id": "9150fe04",
   "metadata": {},
   "source": [
    "Testiranje poslije treninga"
   ]
  },
  {
   "cell_type": "code",
   "execution_count": 40,
   "id": "de1a0938",
   "metadata": {},
   "outputs": [
    {
     "name": "stdout",
     "output_type": "stream",
     "text": [
      "Preciznost:  0.7501899412122015\n",
      "Odziv:  0.48621808387046805\n"
     ]
    }
   ],
   "source": [
    "precision, recall=test_model(net,loss_fn,test_loader)\n",
    "\n",
    "print(\"Preciznost: \", precision)\n",
    "print(\"Odziv: \", recall)"
   ]
  },
  {
   "cell_type": "markdown",
   "id": "d54662e6",
   "metadata": {},
   "source": [
    "# Definisanje validacionog skupa i early stopping\n",
    "\n",
    "-validacioni skup mora da sadrzi podatke kojih nema ni u trening ni u testnom skupu jer zelimo da vidimo kako model radi sa ulazima koje nije vidio ranije\n",
    "\n",
    "-algoritam se izvrsava sve dok performanse ne pocnu da se pogorsavaju na tom skupu"
   ]
  },
  {
   "cell_type": "code",
   "execution_count": 41,
   "id": "9e6c5f34",
   "metadata": {},
   "outputs": [],
   "source": [
    "coverType=fetch_covtype()\n",
    "\n",
    "X=coverType.data\n",
    "Y=coverType.target\n",
    "\n",
    "#30% odvajamo za testni skup jer ćemo ga dijeliti na testni i validacioni\n",
    "X_train, X_temporary, Y_train, Y_temporary=train_test_split(X,Y, test_size=0.3, random_state=42)\n",
    "X_val, X_test, Y_val, Y_test=train_test_split(X_temporary, Y_temporary, test_size=0.5, random_state=42)\n",
    "\n",
    "X_val_t=torch.tensor(X_val).float()\n",
    "Y_val_t=torch.tensor(Y_val).reshape(-1,1)\n"
   ]
  },
  {
   "cell_type": "code",
   "execution_count": 42,
   "id": "ba05d3c6",
   "metadata": {},
   "outputs": [],
   "source": [
    "#dataset u vidu tenzora\n",
    "val_dataset=TensorDataset(X_val_t, Y_val_t)\n",
    "val_loader=DataLoader(val_dataset, batch_size=32,shuffle=True)\n"
   ]
  },
  {
   "cell_type": "code",
   "execution_count": 53,
   "id": "b378af83",
   "metadata": {},
   "outputs": [],
   "source": [
    "def Early_stopping(net, train_loader, val_loader, loss_fn, optimizer):\n",
    "    EPOCHS=10\n",
    "    net.train()\n",
    "    best_loss=None\n",
    "    allowEpochs=2\n",
    "    badEpochs=0\n",
    "    \n",
    "    for i in range(EPOCHS):\n",
    "        print(\"Izvrsava se {}. epoha...\".format(i+1))\n",
    "        #treniramo mrezu\n",
    "        for x,y in train_loader:\n",
    "            x,y=x.float(), y.long().squeeze()\n",
    "            predictions=net(x)\n",
    "            loss=loss_fn(predictions,y-1)\n",
    "            optimizer.zero_grad()\n",
    "            loss.backward()\n",
    "            optimizer.step()\n",
    "            \n",
    "        #racunanje ukupne greske\n",
    "        value_loss=0\n",
    "        for x,y in val_loader:\n",
    "            x,y=x.float(), y.long().squeeze()\n",
    "            preds=net(x)\n",
    "            loss=loss_fn(preds,y-1)\n",
    "            value_loss+=loss.item()\n",
    "            \n",
    "        #ovime dobijamo prosjecni gubitak po primjeru\n",
    "        value_loss/=len(val_loader)\n",
    "        \n",
    "        #provjera da li je taj gubitak bolji od prethodnog\n",
    "        if not best_loss:\n",
    "            best_loss=value_loss\n",
    "        elif value_loss<best_loss:\n",
    "            best_loss=value_loss\n",
    "            badEpochs=0\n",
    "        else:\n",
    "            badEpochs+=1\n",
    "            if badEpochs>=allowEpochs:\n",
    "                print(\"Nakon {}-e i {}-e epohe dolazi do pogorsanja rezultata te se prekida trening.\".format(i+1, i))\n",
    "                print(\"Broj losih epoha:\", badEpochs)\n",
    "                break"
   ]
  },
  {
   "cell_type": "code",
   "execution_count": 54,
   "id": "8a18ff82",
   "metadata": {},
   "outputs": [
    {
     "name": "stdout",
     "output_type": "stream",
     "text": [
      "Izvrsava se 1. epoha...\n",
      "Izvrsava se 2. epoha...\n",
      "Izvrsava se 3. epoha...\n",
      "Nakon 3-e i 2-e epohe dolazi do pogorsanja rezultata te se prekida trening.\n",
      "Broj losih epoha: 2\n"
     ]
    }
   ],
   "source": [
    "Early_stopping(net,train_loader,val_loader,loss_fn,optimizer)"
   ]
  },
  {
   "cell_type": "markdown",
   "id": "0df32fb3",
   "metadata": {},
   "source": [
    "# Pretraga hiperparametara"
   ]
  },
  {
   "cell_type": "code",
   "execution_count": 55,
   "id": "f300551d",
   "metadata": {},
   "outputs": [],
   "source": [
    "coverType=fetch_covtype()\n",
    "X=coverType.data\n",
    "Y=coverType.target\n",
    "\n",
    "X_train, X_temporary, Y_train, Y_temporary=train_test_split(X,Y,test_size=0.3, random_state=42)\n",
    "X_val,X_test,Y_val,Y_test=train_test_split(X_temporary, Y_temporary, test_size=0.5, random_state=42)"
   ]
  },
  {
   "cell_type": "code",
   "execution_count": 56,
   "id": "c76c23d5",
   "metadata": {},
   "outputs": [],
   "source": [
    "X_train_t=torch.tensor(X_train).float()\n",
    "Y_train_t=torch.tensor(Y_train).float().reshape(-1,1)\n",
    "\n",
    "X_val_t=torch.tensor(X_val).float()\n",
    "Y_val_t=torch.tensor(Y_val).reshape(-1,1)\n"
   ]
  },
  {
   "cell_type": "code",
   "execution_count": 57,
   "id": "8efd0cd2",
   "metadata": {},
   "outputs": [],
   "source": [
    "class covType(nn.Module):\n",
    "    def __init__(self,hidden):\n",
    "        super().__init__()\n",
    "        self.layer1=nn.Linear(54,hidden)\n",
    "        self.act1=nn.ReLU()\n",
    "        self.layer2=nn.Linear(hidden, hidden)\n",
    "        self.act2=nn.ReLU()\n",
    "        self.layer3=nn.Linear(hidden,7)\n",
    "        self.act3=nn.Softmax()\n",
    "        \n",
    "    def forward(self,x):\n",
    "        x=self.act1(self.layer1(x))\n",
    "        x=self.act2(self.layer2(x))\n",
    "        x=F.softmax(self.layer3(x), dim=1)\n",
    "        return x\n"
   ]
  },
  {
   "cell_type": "code",
   "execution_count": 58,
   "id": "9ed9d3b0",
   "metadata": {
    "scrolled": false
   },
   "outputs": [
    {
     "name": "stdout",
     "output_type": "stream",
     "text": [
      "Izvrsava se 1. epoha...\n",
      "Izvrsava se 2. epoha...\n",
      "Izvrsava se 3. epoha...\n",
      "Nakon 3-e i 2-e epohe dolazi do pogorsanja rezultata te se prekida trening.\n",
      "Broj losih epoha: 2\n",
      "Izvrsava se 1. epoha...\n",
      "Izvrsava se 2. epoha...\n",
      "Izvrsava se 3. epoha...\n",
      "Nakon 3-e i 2-e epohe dolazi do pogorsanja rezultata te se prekida trening.\n",
      "Broj losih epoha: 2\n",
      "Izvrsava se 1. epoha...\n",
      "Izvrsava se 2. epoha...\n",
      "Izvrsava se 3. epoha...\n",
      "Izvrsava se 4. epoha...\n",
      "Nakon 4-e i 3-e epohe dolazi do pogorsanja rezultata te se prekida trening.\n",
      "Broj losih epoha: 2\n",
      "Izvrsava se 1. epoha...\n",
      "Izvrsava se 2. epoha...\n",
      "Izvrsava se 3. epoha...\n",
      "Izvrsava se 4. epoha...\n",
      "Izvrsava se 5. epoha...\n",
      "Izvrsava se 6. epoha...\n",
      "Izvrsava se 7. epoha...\n",
      "Nakon 7-e i 6-e epohe dolazi do pogorsanja rezultata te se prekida trening.\n",
      "Broj losih epoha: 2\n",
      "Izvrsava se 1. epoha...\n",
      "Izvrsava se 2. epoha...\n",
      "Izvrsava se 3. epoha...\n",
      "Izvrsava se 4. epoha...\n",
      "Nakon 4-e i 3-e epohe dolazi do pogorsanja rezultata te se prekida trening.\n",
      "Broj losih epoha: 2\n",
      "Izvrsava se 1. epoha...\n",
      "Izvrsava se 2. epoha...\n",
      "Izvrsava se 3. epoha...\n",
      "Nakon 3-e i 2-e epohe dolazi do pogorsanja rezultata te se prekida trening.\n",
      "Broj losih epoha: 2\n",
      "Izvrsava se 1. epoha...\n",
      "Izvrsava se 2. epoha...\n",
      "Izvrsava se 3. epoha...\n",
      "Izvrsava se 4. epoha...\n",
      "Nakon 4-e i 3-e epohe dolazi do pogorsanja rezultata te se prekida trening.\n",
      "Broj losih epoha: 2\n",
      "Izvrsava se 1. epoha...\n",
      "Izvrsava se 2. epoha...\n",
      "Izvrsava se 3. epoha...\n",
      "Izvrsava se 4. epoha...\n",
      "Izvrsava se 5. epoha...\n",
      "Izvrsava se 6. epoha...\n",
      "Nakon 6-e i 5-e epohe dolazi do pogorsanja rezultata te se prekida trening.\n",
      "Broj losih epoha: 2\n"
     ]
    }
   ],
   "source": [
    "#hiperparametri:(pored navedenih, moze se varirati sa optimizerima, aktivacionim funkcijama)\n",
    "learning_rate=[0.001, 0.01]\n",
    "hidden_layers=[60,100]\n",
    "batch_sizes=[64,128]\n",
    "\n",
    "best_precision=0.0\n",
    "best_recall=0.0\n",
    "best_model=None\n",
    "best_hyperparemeters=None\n",
    "\n",
    "for i in learning_rate:\n",
    "    for j in hidden_layers:\n",
    "        for k in batch_sizes:\n",
    "            train_dataset=TensorDataset(X_train_t, Y_train_t)\n",
    "            val_dataset=TensorDataset(X_val_t, Y_val_t)\n",
    "            train_loader=DataLoader(train_dataset, batch_size=k, shuffle=True)\n",
    "            val_loader=DataLoader(val_dataset, batch_size=k, shuffle=True)\n",
    "            \n",
    "            net=covType(j)\n",
    "            loss_fn=nn.NLLLoss()\n",
    "            optimizer=torch.optim.Adam(net.parameters(), lr=i)\n",
    "            \n",
    "            Early_stopping(net, train_loader, val_loader, loss_fn, optimizer)\n",
    "            \n",
    "            precision, recall=test_model(net, loss_fn, val_loader)\n",
    "            if precision>best_precision:\n",
    "                best_precision=precision\n",
    "                best_recall=recall\n",
    "                best_model=net\n",
    "                best_parameters=[i, j, k]"
   ]
  },
  {
   "cell_type": "code",
   "execution_count": 61,
   "id": "1c6fd344",
   "metadata": {},
   "outputs": [
    {
     "name": "stdout",
     "output_type": "stream",
     "text": [
      "Najbolje perfomanse mreze dobijamo pri parametrima:\n",
      "learning rate=0.01, hidden layers=100, batch_size=128:\n",
      "\n",
      "Preciznost je 0.9954200140420941\n",
      "Odziv je 0.0046011565999632825\n"
     ]
    }
   ],
   "source": [
    "print(\"Najbolje perfomanse mreze dobijamo pri parametrima:\\nlearning rate={}, hidden layers={}, batch_size={}:\\n\".format(i, j, k))\n",
    "print(\"Preciznost je\", best_precision)\n",
    "print(\"Odziv je\", best_recall)"
   ]
  },
  {
   "cell_type": "code",
   "execution_count": null,
   "id": "ce7ec214",
   "metadata": {},
   "outputs": [],
   "source": []
  }
 ],
 "metadata": {
  "kernelspec": {
   "display_name": "Python 3 (ipykernel)",
   "language": "python",
   "name": "python3"
  },
  "language_info": {
   "codemirror_mode": {
    "name": "ipython",
    "version": 3
   },
   "file_extension": ".py",
   "mimetype": "text/x-python",
   "name": "python",
   "nbconvert_exporter": "python",
   "pygments_lexer": "ipython3",
   "version": "3.11.2"
  }
 },
 "nbformat": 4,
 "nbformat_minor": 5
}
